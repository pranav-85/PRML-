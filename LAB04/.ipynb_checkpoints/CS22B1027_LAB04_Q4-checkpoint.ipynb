{
 "cells": [
  {
   "cell_type": "code",
   "execution_count": 1,
   "id": "57bfcdbe-95c0-4c96-b62e-cc19e6ab4406",
   "metadata": {},
   "outputs": [],
   "source": [
    "import numpy as np"
   ]
  },
  {
   "cell_type": "code",
   "execution_count": 2,
   "id": "c2c6ed7e-049a-4ad5-bbbf-51ea3019d866",
   "metadata": {},
   "outputs": [],
   "source": [
    "h1 = np.array([0.24, 0.2, 0.16, 0.12, 0.08, 0.04, 0.12, 0.04])\n",
    "h2 = np.array([0.22, 0.23, 0.16, 0.13, 0.11, 0.08, 0.05, 0.02])"
   ]
  },
  {
   "cell_type": "code",
   "execution_count": 4,
   "id": "2224bb8c-2e6d-4e0e-a067-57be5e2edb71",
   "metadata": {},
   "outputs": [
    {
     "name": "stdout",
     "output_type": "stream",
     "text": [
      "KL distance: 0.06290516707464022, Bhattacharya distance: 0.014830056106628986\n"
     ]
    }
   ],
   "source": [
    "#KL Distance\n",
    "\n",
    "def kl_distance(P, Q):\n",
    "    sum_p = np.where(P == 0, 1e-10, P)\n",
    "    sum_q = np.where(Q == 0, 1e-10, Q)\n",
    "\n",
    "    return np.sum(sum_p * np.log(sum_p / sum_q))\n",
    "\n",
    "def bhattacharya_distance(P, Q):\n",
    "    return -np.log(np.sum(np.sqrt(P * Q)))\n",
    "    \n",
    "kld = kl_distance(h1, h2)\n",
    "bd = bhattacharya_distance(h1, h2)\n",
    "\n",
    "print(f'KL distance: {kld}, Bhattacharya distance: {bd}')"
   ]
  },
  {
   "cell_type": "code",
   "execution_count": 5,
   "id": "15396de3-d90b-4f8e-9c4e-e9fa330f62f3",
   "metadata": {},
   "outputs": [],
   "source": [
    "file1 = 'doc1.txt'\n",
    "\n",
    "with open(file1, 'w') as file:\n",
    "    file.write('MATLAB is a program for solving engineering and mathematical problems. The basic MATLAB objects are vectors and matrices, so you must be familiar with these before making extensive use of this program.')\n",
    "\n",
    "file2 = 'doc2.txt'\n",
    "\n",
    "with open(file2, 'w') as file:\n",
    "    file.write('MATLAB works with essentially one kind of object, a rectangular numerical matrix. Here is some basic information on using MATLAB matrix commands.')\n",
    "    "
   ]
  },
  {
   "cell_type": "code",
   "execution_count": 7,
   "id": "31890290-a54b-45a5-b7c9-e6c970674e5e",
   "metadata": {},
   "outputs": [
    {
     "name": "stdout",
     "output_type": "stream",
     "text": [
      "Cosine Similarity: 0.3061862178478973\n"
     ]
    }
   ],
   "source": [
    "doc1 = open('doc1.txt', 'r').read()\n",
    "doc2 = open('doc2.txt', 'r').read()\n",
    "\n",
    "import math\n",
    "\n",
    "# Step 1: Tokenize the documents and convert to lower case\n",
    "def tokenize(doc):\n",
    "    return doc.lower().split()\n",
    "\n",
    "# Step 2: Create a vocabulary (unique words)\n",
    "def build_vocabulary(doc1_tokens, doc2_tokens):\n",
    "    return list(set(doc1_tokens) | set(doc2_tokens))\n",
    "\n",
    "# Step 3: Vectorize the documents\n",
    "def vectorize(doc_tokens, vocabulary):\n",
    "    vector = [0] * len(vocabulary)\n",
    "    for word in doc_tokens:\n",
    "        if word in vocabulary:\n",
    "            vector[vocabulary.index(word)] += 1\n",
    "    return vector\n",
    "\n",
    "# Step 4: Compute the dot product\n",
    "def dot_product(vector1, vector2):\n",
    "    return sum([v1 * v2 for v1, v2 in zip(vector1, vector2)])\n",
    "\n",
    "# Step 5: Compute the magnitude (Euclidean norm)\n",
    "def magnitude(vector):\n",
    "    return math.sqrt(sum([v**2 for v in vector]))\n",
    "\n",
    "# Step 6: Compute Cosine Similarity\n",
    "def cosine_similarity(vector1, vector2):\n",
    "    dot_prod = dot_product(vector1, vector2)\n",
    "    magnitude1 = magnitude(vector1)\n",
    "    magnitude2 = magnitude(vector2)\n",
    "    return dot_prod / (magnitude1 * magnitude2)\n",
    "\n",
    "# Process the documents\n",
    "doc1_tokens = tokenize(doc1)\n",
    "doc2_tokens = tokenize(doc2)\n",
    "\n",
    "# Build the vocabulary from both documents\n",
    "vocabulary = build_vocabulary(doc1_tokens, doc2_tokens)\n",
    "\n",
    "# Vectorize both documents\n",
    "vector1 = vectorize(doc1_tokens, vocabulary)\n",
    "vector2 = vectorize(doc2_tokens, vocabulary)\n",
    "\n",
    "# Calculate cosine similarity\n",
    "cosine_sim = cosine_similarity(vector1, vector2)\n",
    "\n",
    "print(f\"Cosine Similarity: {cosine_sim}\")\n"
   ]
  },
  {
   "cell_type": "code",
   "execution_count": null,
   "id": "5f5f3b08-57a4-40a0-82a2-631711fba036",
   "metadata": {},
   "outputs": [],
   "source": []
  }
 ],
 "metadata": {
  "kernelspec": {
   "display_name": "tutorial",
   "language": "python",
   "name": "tutorial"
  },
  "language_info": {
   "codemirror_mode": {
    "name": "ipython",
    "version": 3
   },
   "file_extension": ".py",
   "mimetype": "text/x-python",
   "name": "python",
   "nbconvert_exporter": "python",
   "pygments_lexer": "ipython3",
   "version": "3.9.19"
  }
 },
 "nbformat": 4,
 "nbformat_minor": 5
}
