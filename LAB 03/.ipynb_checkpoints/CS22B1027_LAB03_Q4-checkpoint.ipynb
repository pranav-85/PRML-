{
 "cells": [
  {
   "cell_type": "code",
   "execution_count": 1,
   "id": "41481e22-d441-4512-b172-c57b1eeedf56",
   "metadata": {},
   "outputs": [],
   "source": [
    "import numpy as np\n",
    "import pandas as pd"
   ]
  },
  {
   "cell_type": "code",
   "execution_count": 4,
   "id": "6dbf7782-6dfe-4850-8c3c-f519c4e257d4",
   "metadata": {},
   "outputs": [],
   "source": [
    "mat = np.array([0.5, 0.5, -0.5, -0.25, -0.25])\n",
    "A = np.array([[1, 0.135, 0.195, 0.137, 0.157], [0.135, 1, 0.2, 0.309, 0.143], [0.195, 0.2, 1, 0.157, 0.122], [0.137, 0.309, 0.157, 1, 0.195], [0.157, 0.143, 0.122, 0.195, 1]])\n"
   ]
  },
  {
   "cell_type": "code",
   "execution_count": 11,
   "id": "2c8e16fe-bd4c-4732-ae12-7adda68b9d35",
   "metadata": {},
   "outputs": [
    {
     "data": {
      "text/plain": [
       "np.float64(0.8078520904224982)"
      ]
     },
     "execution_count": 11,
     "metadata": {},
     "output_type": "execute_result"
    }
   ],
   "source": [
    "qfd = (np.linalg.matmul(np.linalg.matmul(mat, A), mat.transpose()))**0.5\n",
    "qfd"
   ]
  },
  {
   "cell_type": "code",
   "execution_count": null,
   "id": "c6c9d958-0e3e-4542-a187-8285cb674aa6",
   "metadata": {},
   "outputs": [],
   "source": []
  }
 ],
 "metadata": {
  "kernelspec": {
   "display_name": "tutorial",
   "language": "python",
   "name": "tutorial"
  },
  "language_info": {
   "codemirror_mode": {
    "name": "ipython",
    "version": 3
   },
   "file_extension": ".py",
   "mimetype": "text/x-python",
   "name": "python",
   "nbconvert_exporter": "python",
   "pygments_lexer": "ipython3",
   "version": "3.9.19"
  }
 },
 "nbformat": 4,
 "nbformat_minor": 5
}
