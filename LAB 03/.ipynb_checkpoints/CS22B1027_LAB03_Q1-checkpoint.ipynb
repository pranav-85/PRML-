{
 "cells": [
  {
   "cell_type": "markdown",
   "id": "ecc56aa7-0b7d-4335-afc0-1e38a1d648f6",
   "metadata": {},
   "source": [
    "# Question 1"
   ]
  },
  {
   "cell_type": "code",
   "execution_count": 18,
   "id": "4a996934-7c42-442c-b798-44d007cf912f",
   "metadata": {},
   "outputs": [],
   "source": [
    "import numpy as np\n",
    "import pandas as pd"
   ]
  },
  {
   "cell_type": "code",
   "execution_count": 2,
   "id": "641138be-f7ea-4cf2-a254-fdd5a1f32f89",
   "metadata": {},
   "outputs": [
    {
     "data": {
      "text/plain": [
       "array([[98, 15],\n",
       "       [87, 12],\n",
       "       [90, 10],\n",
       "       [85, 10],\n",
       "       [95, 16],\n",
       "       [75,  7],\n",
       "       [92, 14],\n",
       "       [80,  9],\n",
       "       [88, 11],\n",
       "       [93, 13]])"
      ]
     },
     "execution_count": 2,
     "metadata": {},
     "output_type": "execute_result"
    }
   ],
   "source": [
    "ice_data = np.array([[98, 15], [87, 12], [90, 10], [85, 10],[95, 16],[75, 7], [92, 14], [80, 9], [88, 11], [93, 13]])\n",
    "ice_data"
   ]
  },
  {
   "cell_type": "code",
   "execution_count": 3,
   "id": "d3ee2dc7-b28f-4382-900b-a6322a864218",
   "metadata": {},
   "outputs": [
    {
     "data": {
      "text/html": [
       "<div>\n",
       "<style scoped>\n",
       "    .dataframe tbody tr th:only-of-type {\n",
       "        vertical-align: middle;\n",
       "    }\n",
       "\n",
       "    .dataframe tbody tr th {\n",
       "        vertical-align: top;\n",
       "    }\n",
       "\n",
       "    .dataframe thead th {\n",
       "        text-align: right;\n",
       "    }\n",
       "</style>\n",
       "<table border=\"1\" class=\"dataframe\">\n",
       "  <thead>\n",
       "    <tr style=\"text-align: right;\">\n",
       "      <th></th>\n",
       "      <th>Temperature</th>\n",
       "      <th>Num_customers</th>\n",
       "    </tr>\n",
       "  </thead>\n",
       "  <tbody>\n",
       "    <tr>\n",
       "      <th>0</th>\n",
       "      <td>98</td>\n",
       "      <td>15</td>\n",
       "    </tr>\n",
       "    <tr>\n",
       "      <th>1</th>\n",
       "      <td>87</td>\n",
       "      <td>12</td>\n",
       "    </tr>\n",
       "    <tr>\n",
       "      <th>2</th>\n",
       "      <td>90</td>\n",
       "      <td>10</td>\n",
       "    </tr>\n",
       "    <tr>\n",
       "      <th>3</th>\n",
       "      <td>85</td>\n",
       "      <td>10</td>\n",
       "    </tr>\n",
       "    <tr>\n",
       "      <th>4</th>\n",
       "      <td>95</td>\n",
       "      <td>16</td>\n",
       "    </tr>\n",
       "    <tr>\n",
       "      <th>5</th>\n",
       "      <td>75</td>\n",
       "      <td>7</td>\n",
       "    </tr>\n",
       "    <tr>\n",
       "      <th>6</th>\n",
       "      <td>92</td>\n",
       "      <td>14</td>\n",
       "    </tr>\n",
       "    <tr>\n",
       "      <th>7</th>\n",
       "      <td>80</td>\n",
       "      <td>9</td>\n",
       "    </tr>\n",
       "    <tr>\n",
       "      <th>8</th>\n",
       "      <td>88</td>\n",
       "      <td>11</td>\n",
       "    </tr>\n",
       "    <tr>\n",
       "      <th>9</th>\n",
       "      <td>93</td>\n",
       "      <td>13</td>\n",
       "    </tr>\n",
       "  </tbody>\n",
       "</table>\n",
       "</div>"
      ],
      "text/plain": [
       "   Temperature  Num_customers\n",
       "0           98             15\n",
       "1           87             12\n",
       "2           90             10\n",
       "3           85             10\n",
       "4           95             16\n",
       "5           75              7\n",
       "6           92             14\n",
       "7           80              9\n",
       "8           88             11\n",
       "9           93             13"
      ]
     },
     "execution_count": 3,
     "metadata": {},
     "output_type": "execute_result"
    }
   ],
   "source": [
    "df = pd.DataFrame(ice_data, columns=['Temperature', 'Num_customers'])\n",
    "df"
   ]
  },
  {
   "cell_type": "code",
   "execution_count": 4,
   "id": "37555393-be0d-44c0-9776-cd601a0b1477",
   "metadata": {},
   "outputs": [],
   "source": [
    "#temperature: x\n",
    "#Number of customers: y\n",
    "\n",
    "x_mean = np.mean(df.Temperature)\n",
    "y_mean = np.mean(df.Num_customers)"
   ]
  },
  {
   "cell_type": "code",
   "execution_count": 5,
   "id": "103e7b67-e109-4a55-98c6-bdcd3d7f7a91",
   "metadata": {},
   "outputs": [
    {
     "name": "stdout",
     "output_type": "stream",
     "text": [
      "Pearson correlation coefficient calculated manually: 0.9186718493897071\n",
      "Pearson correlation coefficient caluclated using in built function: 0.9186718493897073\n"
     ]
    }
   ],
   "source": [
    "x_diff = df.Temperature - x_mean\n",
    "y_diff = df.Num_customers - y_mean\n",
    "\n",
    "numerator = sum(x_diff * y_diff)\n",
    "denominator = (sum(x_diff**2) * sum(y_diff**2)) ** 0.5\n",
    "\n",
    "r = numerator / denominator\n",
    "print(f\"Pearson correlation coefficient calculated manually: {r}\")\n",
    "print(f\"Pearson correlation coefficient caluclated using in built function: {np.corrcoef(df.Temperature, df.Num_customers)[0, 1]}\")"
   ]
  },
  {
   "cell_type": "code",
   "execution_count": null,
   "id": "c665cffb-26d9-4908-963c-d711fdc498de",
   "metadata": {},
   "outputs": [],
   "source": []
  }
 ],
 "metadata": {
  "kernelspec": {
   "display_name": "tutorial",
   "language": "python",
   "name": "tutorial"
  },
  "language_info": {
   "codemirror_mode": {
    "name": "ipython",
    "version": 3
   },
   "file_extension": ".py",
   "mimetype": "text/x-python",
   "name": "python",
   "nbconvert_exporter": "python",
   "pygments_lexer": "ipython3",
   "version": "3.9.19"
  }
 },
 "nbformat": 4,
 "nbformat_minor": 5
}
