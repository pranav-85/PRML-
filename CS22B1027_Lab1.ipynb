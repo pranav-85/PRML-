{
 "cells": [
  {
   "cell_type": "code",
   "execution_count": 2,
   "id": "9ef0f2e8-0499-4ed8-aef5-83092899ee6d",
   "metadata": {},
   "outputs": [],
   "source": [
    "import numpy as np"
   ]
  },
  {
   "cell_type": "markdown",
   "id": "8116db98-5683-4435-81c6-88e4946f871e",
   "metadata": {},
   "source": [
    "# Question 1"
   ]
  },
  {
   "cell_type": "code",
   "execution_count": 38,
   "id": "9beb7002-0196-4619-9c67-d21361d632ad",
   "metadata": {},
   "outputs": [
    {
     "data": {
      "text/plain": [
       "array([[ 0,  1,  2,  3,  4],\n",
       "       [ 5,  6,  7,  8,  9],\n",
       "       [10, 11, 12, 13, 14],\n",
       "       [15, 16, 17, 18, 19]])"
      ]
     },
     "execution_count": 38,
     "metadata": {},
     "output_type": "execute_result"
    }
   ],
   "source": [
    "#1)\n",
    "arr1 = np.arange(0,20)\n",
    "arr1 = arr1.reshape((4, 5))\n",
    "arr_zeros = np.zeros((3, 3))\n",
    "arr_ones = np.ones((3, 3))\n",
    "arr2 = np.linspace(0, 100, 10)\n",
    "arr1"
   ]
  },
  {
   "cell_type": "code",
   "execution_count": 48,
   "id": "b6a627d2-36e7-4a39-b1d6-4c04bb821d0d",
   "metadata": {},
   "outputs": [
    {
     "data": {
      "text/plain": [
       "array([75, 86, 77, 88], dtype=int32)"
      ]
     },
     "execution_count": 48,
     "metadata": {},
     "output_type": "execute_result"
    }
   ],
   "source": [
    "#2)\n",
    "arr1[2][3]\n",
    "arr1[1]\n",
    "arr1[-1]\n",
    "arr1[1] = arr1[1][::-1]\n",
    "arr3 = np.random.randint(1, 101, (3, 3))\n",
    "arr3[arr3>50]"
   ]
  },
  {
   "cell_type": "code",
   "execution_count": 62,
   "id": "f76bc7a8-e8c6-4064-aee5-e344d34644d4",
   "metadata": {},
   "outputs": [],
   "source": [
    "#3)\n",
    "arr = np.random.randint(0, 100, (5, 5))\n",
    "mask = (arr > 30) & (arr < 70)\n",
    "arr = np.where(mask, arr, -1)"
   ]
  },
  {
   "cell_type": "code",
   "execution_count": 164,
   "id": "efa61fb6-b30a-4253-b480-340726e39ddf",
   "metadata": {},
   "outputs": [
    {
     "data": {
      "text/plain": [
       "array([[53, 51, 27],\n",
       "       [58, 60, 43],\n",
       "       [89, 95, 95]], dtype=int32)"
      ]
     },
     "execution_count": 164,
     "metadata": {},
     "output_type": "execute_result"
    }
   ],
   "source": [
    "#4)\n",
    "arr1 = np.random.randint(1, 10, (3, 3))\n",
    "arr2 = np.random.randint(1, 10, (3, 3))\n",
    "arr1 + arr2\n",
    "arr1 - arr2\n",
    "arr1 * arr2\n",
    "arr1 / arr2\n",
    "np.dot(arr1, arr2)"
   ]
  },
  {
   "cell_type": "code",
   "execution_count": 163,
   "id": "825fe4cd-0113-4eaf-ab5c-e1fce66626af",
   "metadata": {},
   "outputs": [
    {
     "data": {
      "text/plain": [
       "np.int32(3)"
      ]
     },
     "execution_count": 163,
     "metadata": {},
     "output_type": "execute_result"
    }
   ],
   "source": [
    "#5)\n",
    "np.mean(arr)\n",
    "np.std(arr)   \n",
    "np.var(arr)\n",
    "np.median(arr)\n",
    "np.max(arr)\n",
    "np.min(arr)"
   ]
  },
  {
   "cell_type": "code",
   "execution_count": 111,
   "id": "8025f522-c4b1-476f-943a-56a9458206c2",
   "metadata": {},
   "outputs": [],
   "source": [
    "#6)\n",
    "arr = np.random.randint(1,100, 24)\n",
    "arr = arr.reshape(4, 6)\n",
    "arr = arr.flatten()\n",
    "arr = arr.reshape(4, 6)\n",
    "arr = arr.T\n",
    "\n",
    "arr1 = np.random.random((3, 3))\n",
    "arr2 = np.random.random((3, 3))\n",
    "arr3 = np.random.random((3, 3))\n",
    "arr_int = np.vstack((arr1, arr2))\n",
    "arr_final = np.hstack((arr_int, np.vstack((arr3, arr3))))"
   ]
  },
  {
   "cell_type": "code",
   "execution_count": 128,
   "id": "36e02f1b-55a1-420f-bb66-8f6be599bd27",
   "metadata": {},
   "outputs": [
    {
     "name": "stdout",
     "output_type": "stream",
     "text": [
      "[[         0          0          0]\n",
      " [1619808074 1347074560  483417603]\n",
      " [ 903612037 -419468703  188907770]]\n",
      "[[         0          0          0]\n",
      " [1619808074 1347074560  483417603]\n",
      " [ 903612037 -419468703  188907770]]\n",
      "[[         0          0          0]\n",
      " [1619808074 1347074560  483417603]\n",
      " [ 903612037 -419468703  188907770]]\n"
     ]
    }
   ],
   "source": [
    "#7)\n",
    "arr = np.random.randint(size=(3, 3), low=np.iinfo(np.int32).min, high=np.iinfo(np.int32).max)\n",
    "arr_dir = arr\n",
    "arr_view = arr.view()\n",
    "arr_copy = arr.copy()\n",
    "\n",
    "arr[0][0] = 0\n",
    "\n",
    "print(arr_dir)\n",
    "print(arr_view)\n",
    "print(arr_copy)\n",
    "\n",
    "arr_dir[0][1] = 0\n",
    "\n",
    "print(arr)\n",
    "print(arr_view)\n",
    "print(arr_copy)\n",
    "\n",
    "arr_view[0][2] = 0\n",
    "\n",
    "print(arr)\n",
    "print(arr_dir)\n",
    "print(arr_copy)\n",
    "\n",
    "arr_copy[1][0] = 0\n",
    "\n",
    "print(arr)\n",
    "print(arr_dir)\n",
    "print(arr_view)\n"
   ]
  },
  {
   "cell_type": "markdown",
   "id": "21403eea-6d63-4be4-a381-782cb7f53e2b",
   "metadata": {},
   "source": [
    "1. On changing element in the original array, the change is reflected in directly assigned array and view array, the same goes for when an element is changed in directly assigned and view array.\n",
    "2. But the change doesn't reflect when element is changed in copied array."
   ]
  },
  {
   "cell_type": "code",
   "execution_count": 135,
   "id": "e5539686-e4f0-4ae4-92ac-ef940fced4e3",
   "metadata": {},
   "outputs": [
    {
     "data": {
      "text/plain": [
       "np.float64(0.25)"
      ]
     },
     "execution_count": 135,
     "metadata": {},
     "output_type": "execute_result"
    }
   ],
   "source": [
    "#8)\n",
    "arr = np.random.rand(4, 4)\n",
    "for i in range(4):\n",
    "    arr[i][i] = np.nan\n",
    "mask = np.isnan(arr)\n",
    "\n",
    "np.nanmean(mask)"
   ]
  },
  {
   "cell_type": "code",
   "execution_count": 157,
   "id": "773cbf03-b9d1-4d17-a886-36f1e7ef7d11",
   "metadata": {},
   "outputs": [
    {
     "data": {
      "text/plain": [
       "array([[0.06118143, 0.02666667, 0.13655462, 0.21985816, 0.01222494,\n",
       "        0.07556675, 0.08976661, 0.06088561, 0.08126411, 0.03448276],\n",
       "       [0.08227848, 0.04      , 0.08823529, 0.08747045, 0.14180929,\n",
       "        0.04282116, 0.11669659, 0.05719557, 0.16478555, 0.13793103],\n",
       "       [0.16455696, 0.06      , 0.00840336, 0.11583924, 0.06356968,\n",
       "        0.03778338, 0.07540395, 0.16420664, 0.03386005, 0.16502463],\n",
       "       [0.20886076, 0.20222222, 0.02731092, 0.09929078, 0.02689487,\n",
       "        0.20403023, 0.06104129, 0.0904059 , 0.12641084, 0.09852217],\n",
       "       [0.02742616, 0.03777778, 0.03571429, 0.01891253, 0.10757946,\n",
       "        0.0302267 , 0.13644524, 0.07933579, 0.11738149, 0.13793103],\n",
       "       [0.08016878, 0.19555556, 0.09663866, 0.08983452, 0.09535452,\n",
       "        0.07556675, 0.07360862, 0.1199262 , 0.13318284, 0.07142857],\n",
       "       [0.15611814, 0.07333333, 0.16176471, 0.19385343, 0.14669927,\n",
       "        0.2418136 , 0.12028725, 0.099631  , 0.04514673, 0.23891626],\n",
       "       [0.14978903, 0.16888889, 0.19327731, 0.06146572, 0.0806846 ,\n",
       "        0.03778338, 0.13105925, 0.01107011, 0.17155756, 0.01477833],\n",
       "       [0.01476793, 0.00666667, 0.13655462, 0.04255319, 0.09046455,\n",
       "        0.16372796, 0.06822262, 0.17712177, 0.10158014, 0.08866995],\n",
       "       [0.05485232, 0.18888889, 0.11554622, 0.07092199, 0.23471883,\n",
       "        0.0906801 , 0.12746858, 0.1402214 , 0.0248307 , 0.01231527]])"
      ]
     },
     "execution_count": 157,
     "metadata": {},
     "output_type": "execute_result"
    }
   ],
   "source": [
    "#9)\n",
    "arr = np.random.randint(2, 100, (10, 10))\n",
    "arr_flat = arr.flatten()\n",
    "indices_flat = np.argsort(arr_flat)[-5:]\n",
    "top_indices = np.unravel_index(indices_flat, arr.shape)\n",
    "\n",
    "run_avg = np.cumsum(arr, axis=1) / np.arange(1, arr.shape[1]+1)\n",
    "\n",
    "arr_norm = arr / sum(arr)"
   ]
  },
  {
   "cell_type": "markdown",
   "id": "cc545330-a56a-4487-aed0-e3f63005d120",
   "metadata": {},
   "source": [
    "# Question 2"
   ]
  },
  {
   "cell_type": "code",
   "execution_count": 162,
   "id": "732dff65-fcdb-4167-9aee-61ab5c598642",
   "metadata": {},
   "outputs": [
    {
     "name": "stdin",
     "output_type": "stream",
     "text": [
      "Enter number of rows, columns:  3,3\n",
      "Enter option:  6\n"
     ]
    },
    {
     "name": "stdout",
     "output_type": "stream",
     "text": [
      "Enter matrix\n"
     ]
    },
    {
     "name": "stdin",
     "output_type": "stream",
     "text": [
      " 1 2 3\n",
      " 2 3 4\n",
      " 3 4 5\n"
     ]
    },
    {
     "name": "stdout",
     "output_type": "stream",
     "text": [
      "[[1. 2. 3.]\n",
      " [2. 3. 4.]\n",
      " [3. 4. 5.]]\n"
     ]
    },
    {
     "name": "stdin",
     "output_type": "stream",
     "text": [
      "Enter option:  12\n"
     ]
    }
   ],
   "source": [
    "def matrix_input(rows, cols):\n",
    "    mat = []\n",
    "    print(\"Enter matrix\")\n",
    "    for i in range(rows):\n",
    "        row = [float(num) for num in input().split(' ')]\n",
    "        if len(row) == cols:\n",
    "            mat.append(row)\n",
    "        else:\n",
    "            print(\"Wrong number of elements\")\n",
    "            exit\n",
    "\n",
    "    return np.array(mat)\n",
    "\n",
    "\n",
    "def menu():\n",
    "    print(\"\\nMenu:\")\n",
    "    print(\"1. Matrix Addition\")\n",
    "    print(\"2. Matrix Subtraction\")\n",
    "    print(\"3. Scalar Matrix Multiplication\")\n",
    "    print(\"4. Elementwise Matrix Multiplication\")\n",
    "    print(\"5. Matrix Multiplication\")\n",
    "    print(\"6. Matrix Transpose\")\n",
    "    print(\"7. Trace of a Matrix\")\n",
    "    print(\"8. Solve System of Linear Equations\")\n",
    "    print(\"9. Determinant\")\n",
    "    print(\"10. Inverse\")\n",
    "    print(\"11. Eigen Value and Eigen Vector\")\n",
    "    print(\"12. Exit\")\n",
    "\n",
    "def solve_linear_system(A, b):\n",
    "    if A.shape[0] != b.shape[0]:\n",
    "        raise ValueError(\"Matrix dimensions do not match.\")\n",
    "    return np.linalg.solve(A, b)\n",
    "    \n",
    "def main():\n",
    "    option = 0\n",
    "    rows, cols = [int(num) for num in input(\"Enter number of rows, columns: \").split(',')]\n",
    "    while(True):\n",
    "        option = int(input(\"Enter option: \"))\n",
    "        if option == 1:\n",
    "            A = matrix_input(rows, cols)\n",
    "            B = matrix_input(rows, cols)\n",
    "            print(A + B)\n",
    "        elif option == 2:\n",
    "            A = matrix_input(rows, cols)\n",
    "            B = matrix_input(rows, cols)\n",
    "            print(A - B)\n",
    "        elif option == 3:\n",
    "            A = matrix_input(rows, cols)\n",
    "            b = float(input(\"Enter scalar: \"))\n",
    "            print(scalar*A)\n",
    "        elif option == 4:\n",
    "            A = matrix_input(rows, cols)\n",
    "            B = matrix_input(rows, cols)\n",
    "            print(A * B)\n",
    "        elif option == 5:\n",
    "            A = matrix_input(rows, cols)\n",
    "            B = matrix_input(rows, cols)\n",
    "            print(np.matmul(A, B))\n",
    "        elif option == 6:\n",
    "            A = matrix_input(rows, cols)\n",
    "            print(A.T)\n",
    "        elif option == 7:\n",
    "            A = matrix_input(rows, cols)\n",
    "            print(np.trace(A))\n",
    "        elif option == 8:\n",
    "            A = matrix_input(rows, cols)\n",
    "            b = np.array(list(map(float, input(\"Enter the constants for the linear equations: \").split())))\n",
    "            try:\n",
    "                solution = solve_linear_system(A, b)\n",
    "                print(\"Solution to the system of linear equations:\")\n",
    "                print(solution)\n",
    "            except np.linalg.LinAlgError:\n",
    "                print(\"The system of equations has no solution or infinite solutions.\")\n",
    "        elif option == 9:\n",
    "            A = matrix_input(rows, cols)\n",
    "            print(np.linalg.det(A))\n",
    "        elif option == 10:\n",
    "            A = matrix_input(rows, cols)\n",
    "            try:\n",
    "                inv = np.linalg.inv(A)\n",
    "                print(\"Inverse of the Matrix:\")\n",
    "                print(inv)\n",
    "            except np.linalg.LinAlgError:\n",
    "                print(\"Matrix is singular and cannot be inverted.\")\n",
    "        elif option == 11:\n",
    "            A = matrix_input(rows, cols)\n",
    "            eigval, eigvec = np.linalg.eig(A)\n",
    "            print(eigval)\n",
    "            print(eigvec)\n",
    "        elif option == 12:\n",
    "            break\n",
    "        else:\n",
    "            print(\"Enter a valid choice!\")\n",
    "\n",
    "if __name__ == \"__main__\":\n",
    "    main()"
   ]
  }
 ],
 "metadata": {
  "kernelspec": {
   "display_name": "tutorial",
   "language": "python",
   "name": "tutorial"
  },
  "language_info": {
   "codemirror_mode": {
    "name": "ipython",
    "version": 3
   },
   "file_extension": ".py",
   "mimetype": "text/x-python",
   "name": "python",
   "nbconvert_exporter": "python",
   "pygments_lexer": "ipython3",
   "version": "3.9.19"
  }
 },
 "nbformat": 4,
 "nbformat_minor": 5
}
