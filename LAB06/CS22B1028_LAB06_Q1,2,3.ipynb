{
 "cells": [
  {
   "cell_type": "markdown",
   "id": "a7fc32aa-9fc0-4138-9580-b94740e22261",
   "metadata": {},
   "source": [
    "# Question-1\n",
    "\n",
    "## Find and plot the decision boundary between class ω1 and ω2. Assume P(ω1) = P(ω2)]\r\n"
   ]
  },
  {
   "cell_type": "code",
   "execution_count": 72,
   "id": "525975e8-6697-47d7-ad0a-3b3ed7990377",
   "metadata": {},
   "outputs": [],
   "source": [
    "import numpy as np\n",
    "import matplotlib.pyplot as plt"
   ]
  },
  {
   "cell_type": "code",
   "execution_count": 73,
   "id": "0adddf69-faf0-474b-ad5d-da0efa9b2049",
   "metadata": {},
   "outputs": [],
   "source": [
    "w1 = np.array([[1, 6], [3, 4], [3, 8], [5, 6]])\n",
    "w2 = np.array([[3, 0], [1, -2], [3, -4], [5, -2]])"
   ]
  },
  {
   "cell_type": "code",
   "execution_count": 74,
   "id": "3c31a94b-2fc8-47ed-9312-3e30dc06c9c5",
   "metadata": {},
   "outputs": [],
   "source": [
    "#Calculating covarience matrices\n",
    "\n",
    "def mean(w1):\n",
    "    N = len(w1)\n",
    "\n",
    "    mean_w1 = []\n",
    "    for i in range(2):\n",
    "        sum=0\n",
    "        for j in range(N):\n",
    "            sum += w1[j][i]\n",
    "        mean_w1.append([sum/N])\n",
    "\n",
    "    mean_w1 = np.array(mean_w1)\n",
    "\n",
    "    return mean_w1\n",
    "\n",
    "\n",
    "def cov_mat(w1):\n",
    "    N = len(w1)\n",
    "\n",
    "    mean_w1 = []\n",
    "    for i in range(2):\n",
    "        sum=0\n",
    "        for j in range(N):\n",
    "            sum += w1[j][i]\n",
    "        mean_w1.append([sum/N])\n",
    "\n",
    "    mean_w1 = np.array(mean_w1)\n",
    "\n",
    "    \n",
    "    Z_1 = []\n",
    "\n",
    "    for i in range(N):\n",
    "        row = []\n",
    "        for j in range(2):\n",
    "            temp = w1[i][j] - mean_w1[j]\n",
    "            row.append(temp[0])\n",
    "        Z_1.append(row)\n",
    "\n",
    "    Z_1 = np.array(Z_1)\n",
    "    cov_1 = (1/(N-1)) * np.linalg.matmul(Z_1.T, Z_1)\n",
    "    return cov_1\n"
   ]
  },
  {
   "cell_type": "code",
   "execution_count": 75,
   "id": "fa838857-dbbf-41e2-88ef-08d3700e594d",
   "metadata": {},
   "outputs": [
    {
     "data": {
      "text/plain": [
       "array([[2.66666667, 0.        ],\n",
       "       [0.        , 2.66666667]])"
      ]
     },
     "execution_count": 75,
     "metadata": {},
     "output_type": "execute_result"
    }
   ],
   "source": [
    "cov1 = cov_mat(w1)\n",
    "cov2 = cov_mat(w2)\n",
    "\n",
    "cov2"
   ]
  },
  {
   "cell_type": "code",
   "execution_count": 76,
   "id": "fa3035b2-d6ae-4b8f-94e1-b585915e7ed0",
   "metadata": {},
   "outputs": [],
   "source": [
    "# cov1 = cov2. First Case\n",
    "#gi(x) = wi.T*x + wi0\n",
    "\n",
    "sig2 = cov1[0][0]\n",
    "\n",
    "mean_w1 = mean(w1)\n",
    "mean_w2 = mean(w2)\n",
    "\n",
    "weight1 = (1/sig2) * mean_w1\n",
    "weight2 = (1/sig2) * mean_w2\n",
    "\n",
    "w10 = ((-1 / (2*sig2)) * np.linalg.matmul(mean_w1.T, mean_w1)) + np.log(0.5)\n",
    "w20 = ((-1 / (2*sig2)) * np.linalg.matmul(mean_w2.T, mean_w2)) + np.log(0.5)"
   ]
  },
  {
   "cell_type": "code",
   "execution_count": 77,
   "id": "29e1e8ab-94b2-46c5-923f-8d24ef49ba33",
   "metadata": {},
   "outputs": [
    {
     "data": {
      "text/plain": [
       "array([[1.125],\n",
       "       [2.25 ]])"
      ]
     },
     "execution_count": 77,
     "metadata": {},
     "output_type": "execute_result"
    }
   ],
   "source": [
    "weight1"
   ]
  },
  {
   "cell_type": "code",
   "execution_count": 78,
   "id": "7666cf19-77e1-425f-8af3-f8f885c7bce8",
   "metadata": {},
   "outputs": [
    {
     "data": {
      "text/plain": [
       "array([[ 1.125],\n",
       "       [-0.75 ]])"
      ]
     },
     "execution_count": 78,
     "metadata": {},
     "output_type": "execute_result"
    }
   ],
   "source": [
    "weight2"
   ]
  },
  {
   "cell_type": "code",
   "execution_count": 79,
   "id": "db7df8d9-fb3b-4ca2-b521-45b477694848",
   "metadata": {},
   "outputs": [
    {
     "data": {
      "image/png": "[encoded data removed]",
      "text/plain": [
       "<Figure size 640x480 with 1 Axes>"
      ]
     },
     "metadata": {},
     "output_type": "display_data"
    }
   ],
   "source": [
    "def g1(x):\n",
    "    return np.dot(weight1.T, x) + w10\n",
    "\n",
    "def g2(x):\n",
    "    return np.dot(weight2.T, x) + w20\n",
    "\n",
    "X = np.vstack((w1, w2))\n",
    "# Define grid for plotting\n",
    "x_min, x_max = X[:, 0].min() - 1, X[:, 0].max() + 1\n",
    "y_min, y_max = X[:, 1].min() - 1, X[:, 1].max() + 1\n",
    "xx, yy = np.meshgrid(np.linspace(x_min, x_max, 200), np.linspace(y_min, y_max, 200))\n",
    "\n",
    "# Calculate the decision boundary g1(x) = g2(x)\n",
    "Z = np.array([g1([xx_val, yy_val]) - g2([xx_val, yy_val]) for xx_val, yy_val in zip(xx.ravel(), yy.ravel())])\n",
    "Z = Z.reshape(xx.shape)\n",
    "\n",
    "# Plot decision boundary and data points\n",
    "plt.contourf(xx, yy, Z, levels=[-1000, 0, 1000], alpha=0.3, cmap=plt.cm.Paired)\n",
    "plt.scatter(w1[:, 0], w1[:, 1], color='red', label='ω1')\n",
    "plt.scatter(w2[:, 0], w2[:, 1], color='blue', label='ω2')\n",
    "\n",
    "# Highlight the decision boundary (where g1(x) = g2(x))\n",
    "plt.contour(xx, yy, Z, levels=[0], linewidths=2, colors='black')\n",
    "\n",
    "plt.legend()\n",
    "plt.title('Decision Boundary between Class ω1 and ω2 (Highlighted)')\n",
    "plt.xlabel('x1')\n",
    "plt.ylabel('x2')\n",
    "plt.show()"
   ]
  },
  {
   "cell_type": "markdown",
   "id": "4cb57f7c-2299-44c4-bc55-d7a661874ee0",
   "metadata": {},
   "source": [
    "# Question 2\n",
    "\n",
    "### Find and plot the decision boundary between class ω1 and ω2. Assume P(ω1) =0.3; P(ω2)=0.7\r",
    "### \n",
    "ω1 =([1,-1; 2,-5; 3,-6; 4,-10; 5,-12; 6,-1)\n",
    "\n",
    "- ]### \r\n",
    "ω2 ( [-1,1; -2,5; -3,6; -4,10, -5,12; -6, )5]\r\n"
   ]
  },
  {
   "cell_type": "code",
   "execution_count": 80,
   "id": "dfe8dbf9-fc44-431d-92cf-05170170db92",
   "metadata": {},
   "outputs": [],
   "source": [
    "w1 = np.array([[1, -1], [2, -5], [3, -6], [4, -10], [5, -12], [6, -5]])\n",
    "w2 = np.array([[-1, 1], [-2, 5], [-3, 6], [-4, 10], [-5, 12], [-6, 15]])"
   ]
  },
  {
   "cell_type": "code",
   "execution_count": 81,
   "id": "b1719128-f29b-4ded-b305-6a0a6e574c3c",
   "metadata": {},
   "outputs": [],
   "source": [
    "mean_w1 = mean(w1)\n",
    "mean_w2 = mean(w2)\n",
    "\n",
    "cov1 = cov_mat(w1)\n",
    "cov2 = cov_mat(w2)"
   ]
  },
  {
   "cell_type": "code",
   "execution_count": 82,
   "id": "336ecd81-474a-4210-ae0c-b1664ca32fbd",
   "metadata": {},
   "outputs": [
    {
     "name": "stdout",
     "output_type": "stream",
     "text": [
      "[[ 3.5 -4.5]\n",
      " [-4.5 15.5]]\n",
      "[[ 3.5        -9.5       ]\n",
      " [-9.5        26.16666667]]\n"
     ]
    }
   ],
   "source": [
    "print(cov1)\n",
    "print(cov2)"
   ]
  },
  {
   "cell_type": "code",
   "execution_count": 83,
   "id": "8290d7e9-d415-48b4-9e71-8d8f47cd4300",
   "metadata": {},
   "outputs": [
    {
     "data": {
      "text/plain": [
       "(2, 1)"
      ]
     },
     "execution_count": 83,
     "metadata": {},
     "output_type": "execute_result"
    }
   ],
   "source": [
    "#Case 2\n",
    "\n",
    "weight_1 = (np.linalg.inv(cov1)) * mean_w1\n",
    "weight_2 = (np.linalg.inv(cov2)) * mean_w2\n",
    "\n",
    "\n",
    "w10 = ((-1/2) * np.dot(np.dot(mean_w1.T, np.linalg.inv(cov1)), mean_w1)) + np.log(0.3)\n",
    "w20 = ((-1/2) * np.dot(np.dot(mean_w2.T, np.linalg.inv(cov2)), mean_w2)) + np.log(0.7)\n",
    "\n",
    "weight1.shape"
   ]
  },
  {
   "cell_type": "code",
   "execution_count": 84,
   "id": "9689bab1-b029-49b7-a0c1-f275302ddfb0",
   "metadata": {},
   "outputs": [
    {
     "data": {
      "image/png": "[encoded data removed]",
      "text/plain": [
       "<Figure size 640x480 with 1 Axes>"
      ]
     },
     "metadata": {},
     "output_type": "display_data"
    }
   ],
   "source": [
    "X = np.vstack((w1, w2))\n",
    "# Define grid for plotting\n",
    "x_min, x_max = X[:, 0].min() - 1, X[:, 0].max() + 1\n",
    "y_min, y_max = X[:, 1].min() - 1, X[:, 1].max() + 1\n",
    "xx, yy = np.meshgrid(np.linspace(x_min, x_max, 200), np.linspace(y_min, y_max, 200))\n",
    "\n",
    "# Calculate the decision boundary g1(x) = g2(x)\n",
    "Z = np.array([g1([xx_val, yy_val]) - g2([xx_val, yy_val]) for xx_val, yy_val in zip(xx.ravel(), yy.ravel())])\n",
    "Z = Z.reshape(xx.shape)\n",
    "\n",
    "# Plot decision boundary and data points\n",
    "plt.contourf(xx, yy, Z, levels=[-1000, 0, 1000], alpha=0.3, cmap=plt.cm.Paired)\n",
    "plt.scatter(w1[:, 0], w1[:, 1], color='red', label='ω1')\n",
    "plt.scatter(w2[:, 0], w2[:, 1], color='blue', label='ω2')\n",
    "\n",
    "# Highlight the decision boundary (where g1(x) = g2(x))\n",
    "plt.contour(xx, yy, Z, levels=[0], linewidths=2, colors='black')\n",
    "\n",
    "plt.legend()\n",
    "plt.title('Decision Boundary between Class ω1 and ω2 (Highlighted)')\n",
    "plt.xlabel('x1')\n",
    "plt.ylabel('x2')\n",
    "plt.show()"
   ]
  },
  {
   "cell_type": "markdown",
   "id": "a9d092bc-9d53-4a83-9c42-47c86ac0d185",
   "metadata": {},
   "source": [
    "# Question 3"
   ]
  },
  {
   "cell_type": "code",
   "execution_count": 85,
   "id": "3bb25752-9b15-49d9-9f81-22f0ff2673ed",
   "metadata": {},
   "outputs": [],
   "source": [
    "w1 = np.array([[2, 6], [3, 4], [3, 8], [4, 6]])\n",
    "w2 = np.array([[3, 0], [1, -2], [3, -4], [5, -2]])"
   ]
  },
  {
   "cell_type": "code",
   "execution_count": 86,
   "id": "571bb9b6-a6a4-49a9-a346-7f63ebed6f3f",
   "metadata": {},
   "outputs": [],
   "source": [
    "mean_w1 = mean(w1)\n",
    "mean_w2 = mean(w2)\n",
    "\n",
    "cov1 = cov_mat(w1)\n",
    "cov2 = cov_mat(w2)"
   ]
  },
  {
   "cell_type": "code",
   "execution_count": 87,
   "id": "283bf6d1-d9d5-49d2-ac87-b66015e2d0c6",
   "metadata": {},
   "outputs": [
    {
     "data": {
      "text/plain": [
       "array([[0.66666667, 0.        ],\n",
       "       [0.        , 2.66666667]])"
      ]
     },
     "execution_count": 87,
     "metadata": {},
     "output_type": "execute_result"
    }
   ],
   "source": [
    "cov1"
   ]
  },
  {
   "cell_type": "code",
   "execution_count": 88,
   "id": "a4bca3d0-94ec-4251-8627-9673cf52892c",
   "metadata": {},
   "outputs": [
    {
     "data": {
      "text/plain": [
       "array([[2.66666667, 0.        ],\n",
       "       [0.        , 2.66666667]])"
      ]
     },
     "execution_count": 88,
     "metadata": {},
     "output_type": "execute_result"
    }
   ],
   "source": [
    "cov2"
   ]
  },
  {
   "cell_type": "code",
   "execution_count": 89,
   "id": "a9d47fd6-e1bf-4bbf-af7a-35b88c5fc94c",
   "metadata": {},
   "outputs": [],
   "source": [
    "#Case 3\n",
    "W_1 = (-1/2) * np.linalg.inv(cov1)\n",
    "W_2 = (-1/2) * np.linalg.inv(cov2)\n",
    "\n",
    "weight1 = np.dot(np.linalg.inv(cov1), mean_w1)\n",
    "weight2 = np.dot(np.linalg.inv(cov2), mean_w2)\n",
    "\n",
    "w10 = ((-1/2) * np.dot(np.dot(mean_w1.T, np.linalg.inv(cov1)), mean_w1)) - (1/2)*np.log(abs(np.linalg.det(cov1)))+ np.log(0.5)\n",
    "w20 = ((-1/2) * np.dot(np.dot(mean_w2.T, np.linalg.inv(cov2)), mean_w2)) - (1/2)*np.log(abs(np.linalg.det(cov2)))+ np.log(0.5)"
   ]
  },
  {
   "cell_type": "code",
   "execution_count": 90,
   "id": "7a8cebea-c1dd-4f00-85a3-57160fd49007",
   "metadata": {},
   "outputs": [],
   "source": [
    "def g1(x):\n",
    "    return np.dot(np.dot(np.array(x).T, W_1), x) + np.dot(weight1.T, x) + w10\n",
    "\n",
    "def g2(x):\n",
    "    return np.dot(np.dot(np.array(x).T, W_2), x) + np.dot(weight2.T, x) + w20"
   ]
  },
  {
   "cell_type": "code",
   "execution_count": 91,
   "id": "e275ba4b-622d-4cfa-a362-4658f68a773d",
   "metadata": {},
   "outputs": [
    {
     "data": {
      "image/png": "[encoded data removed]",
      "text/plain": [
       "<Figure size 640x480 with 1 Axes>"
      ]
     },
     "metadata": {},
     "output_type": "display_data"
    }
   ],
   "source": [
    "X = np.vstack((w1, w2))\n",
    "# Define grid for plotting\n",
    "x_min, x_max = X[:, 0].min() - 1, X[:, 0].max() + 1\n",
    "y_min, y_max = X[:, 1].min() - 1, X[:, 1].max() + 1\n",
    "xx, yy = np.meshgrid(np.linspace(x_min, x_max, 200), np.linspace(y_min, y_max, 200))\n",
    "\n",
    "# Calculate the decision boundary g1(x) = g2(x)\n",
    "Z = np.array([g1([xx_val, yy_val]) - g2([xx_val, yy_val]) for xx_val, yy_val in zip(xx.ravel(), yy.ravel())])\n",
    "Z = Z.reshape(xx.shape)\n",
    "\n",
    "# Plot decision boundary and data points\n",
    "plt.contourf(xx, yy, Z, levels=[-1000, 0, 1000], alpha=0.3, cmap=plt.cm.Paired)\n",
    "plt.scatter(w1[:, 0], w1[:, 1], color='red', label='ω1')\n",
    "plt.scatter(w2[:, 0], w2[:, 1], color='blue', label='ω2')\n",
    "\n",
    "# Highlight the decision boundary (where g1(x) = g2(x))\n",
    "plt.contour(xx, yy, Z, levels=[0], linewidths=2, colors='black')\n",
    "\n",
    "plt.legend()\n",
    "plt.title('Decision Boundary between Class ω1 and ω2 (Highlighted)')\n",
    "plt.xlabel('x1')\n",
    "plt.ylabel('x2')\n",
    "plt.show()"
   ]
  },
  {
   "cell_type": "code",
   "execution_count": null,
   "id": "8099934b-98aa-4825-a483-d88a6cb3d140",
   "metadata": {},
   "outputs": [],
   "source": []
  }
 ],
 "metadata": {
  "kernelspec": {
   "display_name": "tutorial",
   "language": "python",
   "name": "tutorial"
  },
  "language_info": {
   "codemirror_mode": {
    "name": "ipython",
    "version": 3
   },
   "file_extension": ".py",
   "mimetype": "text/x-python",
   "name": "python",
   "nbconvert_exporter": "python",
   "pygments_lexer": "ipython3",
   "version": "3.9.19"
  }
 },
 "nbformat": 4,
 "nbformat_minor": 5
}
